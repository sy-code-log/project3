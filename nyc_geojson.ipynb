{
 "cells": [
  {
   "cell_type": "code",
   "execution_count": 6,
   "id": "1aa578d9",
   "metadata": {},
   "outputs": [
    {
     "name": "stdout",
     "output_type": "stream",
     "text": [
      "200\n"
     ]
    }
   ],
   "source": [
    "import requests\n",
    "\n",
    "url = 'https://services5.arcgis.com/GfwWNkhOj9bNBqoJ/arcgis/rest/services/NYC_Borough_Boundary/FeatureServer/0/query?where=1=1&outFields=*&f=geojson'\n",
    "\n",
    "response = requests.get(url)\n",
    "print(response.status_code)  # 200인지 확인\n",
    "\n",
    "if response.status_code == 200:\n",
    "    geojson_data = response.json()\n",
    "else:\n",
    "    print(\"데이터 요청 실패:\", response.status_code)\n"
   ]
  },
  {
   "cell_type": "code",
   "execution_count": null,
   "id": "10594e4b",
   "metadata": {},
   "outputs": [
    {
     "name": "stdout",
     "output_type": "stream",
     "text": [
      "GeoJSON 파일 저장 완료!\n"
     ]
    }
   ],
   "source": [
    "import json\n",
    "\n",
    "with open('nyc_geojson.json', 'w', encoding='utf-8') as f:\n",
    "    json.dump(geojson_data, f, ensure_ascii=False, indent=4)\n",
    "\n",
    "print(\"GeoJSON 파일 저장 완료!\")"
   ]
  },
  {
   "cell_type": "code",
   "execution_count": 8,
   "id": "c6395087",
   "metadata": {},
   "outputs": [
    {
     "name": "stdout",
     "output_type": "stream",
     "text": [
      "   OBJECTID  BoroCode       BoroName   Shape__Area  Shape__Length  \\\n",
      "0         1         5  Staten Island  1.623620e+09  325903.403256   \n",
      "1         2         3       Brooklyn  1.934220e+09  728187.107889   \n",
      "2         3         4         Queens  3.041417e+09  887909.387287   \n",
      "3         4         1      Manhattan  6.367055e+08  360037.633774   \n",
      "4         5         2          Bronx  1.187199e+09  463147.071958   \n",
      "\n",
      "                                            geometry  \n",
      "0  POLYGON ((-74.05051 40.56643, -74.05047 40.566...  \n",
      "1  POLYGON ((-73.86328 40.58389, -73.86381 40.583...  \n",
      "2  POLYGON ((-73.82645 40.59054, -73.82643 40.590...  \n",
      "3  POLYGON ((-73.92364 40.87882, -73.92368 40.878...  \n",
      "4  POLYGON ((-73.89681 40.79582, -73.89694 40.795...  \n",
      "EPSG:4326\n"
     ]
    }
   ],
   "source": [
    "import geopandas as gpd\n",
    "\n",
    "# 저장된 GeoJSON 파일 경로\n",
    "file_path = 'nyc_geojson.json'\n",
    "\n",
    "# GeoDataFrame으로 불러오기\n",
    "gdf = gpd.read_file(file_path)\n",
    "\n",
    "# 데이터 확인\n",
    "print(gdf.head())\n",
    "print(gdf.crs)  # 좌표계 정보\n"
   ]
  }
 ],
 "metadata": {
  "kernelspec": {
   "display_name": "venv",
   "language": "python",
   "name": "python3"
  },
  "language_info": {
   "codemirror_mode": {
    "name": "ipython",
    "version": 3
   },
   "file_extension": ".py",
   "mimetype": "text/x-python",
   "name": "python",
   "nbconvert_exporter": "python",
   "pygments_lexer": "ipython3",
   "version": "3.13.3"
  }
 },
 "nbformat": 4,
 "nbformat_minor": 5
}
